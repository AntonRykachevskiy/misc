{
 "cells": [
  {
   "cell_type": "markdown",
   "metadata": {},
   "source": [
    "Общее пояснение: данный файл содержит результаты ручной разметки текстов; одна строка = результаты работы одного ассесора по одному тексту; тексты повторяются, но их оценки уникальны. Конечная задача: обучить классификатор (в тесте не ставится)\n",
    "Вкладка «куда вставлять» содержит файл, в котором неправильно заполнены столбцы с X по AD (отношение … опасный). Вкладка «что вставлять» содержит правильные значения этих столбцов. Неправильные значения надо заменить на правильные. Однако есть ряд проблем.\n",
    "\n",
    "### Проблема 1.\n",
    "Каждая строка вкладки \"куда вставлять\" имеет идентификационный номер, но номера повторяются. Если они повторяются, строки различаются по столбцу «логин». Во вкладке с правильными значениями столбцов X-AD (\"что вставлять\") сохранены IDs, но не сохранены значения столбца «логин». Таким образом, соотнести однозначно строки вкладки «что вставлять» и сторки вкладки «куда вставлять» невозможно. Надо брать ID из вкладки «что вставлять», искать его первое попавшееся упоминание во вкладке «куда вставлять» и, собственно, вставлять. Затем нужно взять во вкладке «что вставлять» следующую строку  с тем же ID и найти во вкладке «куда вставлять» СЛЕДУЮЩЕЕ (но не то же самое!) упоминание этого ID. Важно не запихать второй раз правильные значения в ту строку вкладки «куда вставлять», которую уже один раз заменили. А то в одной строке значения поменяем дважды, а в другой – ни разу.\n",
    "\n",
    "\n",
    "### Проблема 2. \n",
    "Во вкладке «что вставлять» явно есть лишние данные, т.к. там почти в два раза больше строк. Те строки из вкладки «что вставлять», которые окажутся не востребованными и никуда не вставятся, записать в отдельный файл.\n",
    "\n",
    "\n",
    "### Проблема 3. \n",
    "не исключено, если во вкладке «что вставлять» будет не хватать строк, которые есть во вкладке «что вставлять». Такой нехватки может и не быть. Но если все же во вкладке «куда вставлять» останутся строки, в которых ни разу не были заменены столбцы X-AD, такие строки надо сохранить в третий файл.\n",
    "\n",
    "\n",
    "### NB:\n",
    "обратите внимание, во вкладке \"куда вставлять\" столбцы не имеют уникальных заголовков. Так, заголовки \"отношение\", \"опасный\" и т.д. повторяются. Нас интересуют именно столбцы X-AD. В csv  и других форматах столбцы не будут иметь идентификаторов  типа X и AD, поэтому важно не перепутать между собой столбцы с одинаковыми заголовками. Нас интересует то \"отношение\", которые самое первое (самый левый из всех столбцов с заголовком \"отношение\"). Аналогично для других пяти столбцов.\n",
    "результат представить в формате xls или csv (разделители целой части числа - запятые). Приложить код.\n"
   ]
  },
  {
   "cell_type": "code",
   "execution_count": 2,
   "metadata": {
    "collapsed": true
   },
   "outputs": [],
   "source": [
    "import pandas as pd\n",
    "import numpy as np"
   ]
  },
  {
   "cell_type": "code",
   "execution_count": 159,
   "metadata": {
    "collapsed": false
   },
   "outputs": [],
   "source": [
    "where_all = pd.read_csv('тест датамйнерам.csv', low_memory=False)"
   ]
  },
  {
   "cell_type": "code",
   "execution_count": 118,
   "metadata": {
    "collapsed": false
   },
   "outputs": [
    {
     "name": "stdout",
     "output_type": "stream",
     "text": [
      "2029\n"
     ]
    }
   ],
   "source": [
    "#маска определяющаяя где у нас вообще есть id\n",
    "id_mask = np.logical_not(where_all.id.isnull().values)\n",
    "print id_mask.sum()\n",
    "\n",
    "\n",
    "# выделем осмысленную часть датасета\n",
    "where = where_all.iloc[id_mask]"
   ]
  },
  {
   "cell_type": "code",
   "execution_count": 119,
   "metadata": {
    "collapsed": true
   },
   "outputs": [],
   "source": [
    "what = pd.read_csv('тест датамйнерам что.csv', low_memory=False)"
   ]
  },
  {
   "cell_type": "markdown",
   "metadata": {},
   "source": [
    "Будем ходить двумя указателями, так что нужно, чтобы массивы были отсортированы по индексу. Порядок сортировки довольно специфический, так что функция сравнения своя"
   ]
  },
  {
   "cell_type": "code",
   "execution_count": 120,
   "metadata": {
    "collapsed": true
   },
   "outputs": [],
   "source": [
    "def id_compare(id_1, id_2):\n",
    "    if id_1.isdigit() and id_2.isdigit():\n",
    "        return int(id_1) <= int(id_2)\n",
    "    elif id_1.isdigit():\n",
    "        return True\n",
    "    elif id_2.isdigit():\n",
    "        return False\n",
    "    else:\n",
    "        return id_1 <= id_2"
   ]
  },
  {
   "cell_type": "code",
   "execution_count": 121,
   "metadata": {
    "collapsed": false,
    "scrolled": false
   },
   "outputs": [
    {
     "name": "stdout",
     "output_type": "stream",
     "text": [
      "True\n",
      "True\n"
     ]
    }
   ],
   "source": [
    "print all(map(lambda x : id_compare(x[0], x[1]), zip(what.id.values[:-1], what.id.values[1:])))\n",
    "print all(map(lambda x : id_compare(x[0], x[1]), zip(where.id.values[:-1], where.id.values[1:]) ))"
   ]
  },
  {
   "cell_type": "markdown",
   "metadata": {},
   "source": [
    "Оба датасета действительно отсортированы, дальше идем двумя указателями, что куда надо вставляем"
   ]
  },
  {
   "cell_type": "code",
   "execution_count": 122,
   "metadata": {
    "collapsed": true
   },
   "outputs": [
    {
     "name": "stdout",
     "output_type": "stream",
     "text": [
      "i 0\n",
      "i 0\n",
      "i 100\n",
      "i 200\n",
      "i 300\n",
      "i 400\n",
      "i 400\n",
      "i 500\n",
      "i 500\n",
      "i 500\n",
      "i 600\n",
      "i 700\n",
      "i 800\n",
      "i 900\n",
      "i 900\n",
      "i 900\n",
      "i 1000\n",
      "i 1000\n",
      "i 1100\n",
      "i 1200\n",
      "i 1200\n",
      "i 1300\n",
      "i 1400\n",
      "i 1500\n",
      "i 1500\n",
      "i 1600\n",
      "i 1700\n",
      "i 1700\n",
      "i 1700\n",
      "i 1700\n",
      "i 1800\n",
      "i 1800\n",
      "i 1800\n",
      "i 1800\n",
      "i 1800\n",
      "i 1800\n",
      "i 1800\n",
      "i 1800\n",
      "i 1900\n",
      "i 1900\n",
      "i 1900\n",
      "i 2000\n",
      "i 2000\n",
      "i 2000\n"
     ]
    }
   ],
   "source": [
    "i = 0\n",
    "j = 0\n",
    "\n",
    "unreplaced_where = pd.DataFrame(columns=where.columns)\n",
    "unused_what = pd.DataFrame(columns=what.columns)\n",
    "\n",
    "i_lim = where.shape[0]\n",
    "j_lim = what.shape[0]\n",
    "\n",
    "while i < i_lim and j < j_lim: \n",
    "    if i % 100 == 0:\n",
    "        print 'i', i\n",
    "        #print \"j\", j\n",
    "    if where.loc[i, 'id'] == what.loc[j, 'id']:\n",
    "        where.loc[i, what.columns] = what.iloc[j]\n",
    "        i += 1\n",
    "        j += 1\n",
    "    elif id_compare(where.loc[i, 'id'], what.loc[j, 'id']):\n",
    "        unreplaced_where.loc[i, where.columns] = where.iloc[i]\n",
    "        i += 1   \n",
    "    else:\n",
    "        unused_what.loc[j, what.columns] = what.iloc[j]\n",
    "        j += 1\n"
   ]
  },
  {
   "cell_type": "markdown",
   "metadata": {},
   "source": [
    "Теперь проверим, дошли ли до конца, или остались строки, которые нужно куда-то сложить"
   ]
  },
  {
   "cell_type": "code",
   "execution_count": 124,
   "metadata": {
    "collapsed": false
   },
   "outputs": [
    {
     "name": "stdout",
     "output_type": "stream",
     "text": [
      "2029 3344\n",
      "2029 3344\n"
     ]
    }
   ],
   "source": [
    "print i, j\n",
    "print i_lim, j_lim"
   ]
  },
  {
   "cell_type": "markdown",
   "metadata": {},
   "source": [
    "Все на месте, кроме кусков из \"куда вставлять\", без id\n",
    "\n",
    "Посмотрим глазами на то что получилось и сохраним "
   ]
  },
  {
   "cell_type": "code",
   "execution_count": 130,
   "metadata": {
    "collapsed": false
   },
   "outputs": [
    {
     "data": {
      "text/html": [
       "<div>\n",
       "<table border=\"1\" class=\"dataframe\">\n",
       "  <thead>\n",
       "    <tr style=\"text-align: right;\">\n",
       "      <th></th>\n",
       "      <th>index</th>\n",
       "      <th>id</th>\n",
       "      <th>Обобщение</th>\n",
       "      <th>Отношение</th>\n",
       "      <th>Агрессия</th>\n",
       "      <th>Солидар.</th>\n",
       "      <th>Низ/выс</th>\n",
       "      <th>Жертва?</th>\n",
       "      <th>Опасный?</th>\n",
       "    </tr>\n",
       "  </thead>\n",
       "  <tbody>\n",
       "    <tr>\n",
       "      <th>0</th>\n",
       "      <td>0</td>\n",
       "      <td>2942</td>\n",
       "      <td>3</td>\n",
       "      <td>2</td>\n",
       "      <td>1</td>\n",
       "      <td>1</td>\n",
       "      <td>3</td>\n",
       "      <td>3</td>\n",
       "      <td>1</td>\n",
       "    </tr>\n",
       "    <tr>\n",
       "      <th>1</th>\n",
       "      <td>12</td>\n",
       "      <td>55368</td>\n",
       "      <td>2</td>\n",
       "      <td>2</td>\n",
       "      <td>1</td>\n",
       "      <td>1</td>\n",
       "      <td>3</td>\n",
       "      <td>3</td>\n",
       "      <td>1</td>\n",
       "    </tr>\n",
       "    <tr>\n",
       "      <th>2</th>\n",
       "      <td>16</td>\n",
       "      <td>58073</td>\n",
       "      <td>2</td>\n",
       "      <td>2</td>\n",
       "      <td>1</td>\n",
       "      <td>1</td>\n",
       "      <td>3</td>\n",
       "      <td>3</td>\n",
       "      <td>1</td>\n",
       "    </tr>\n",
       "    <tr>\n",
       "      <th>3</th>\n",
       "      <td>21</td>\n",
       "      <td>62855</td>\n",
       "      <td>1</td>\n",
       "      <td>2</td>\n",
       "      <td>1</td>\n",
       "      <td>2</td>\n",
       "      <td>3</td>\n",
       "      <td>3</td>\n",
       "      <td>1</td>\n",
       "    </tr>\n",
       "    <tr>\n",
       "      <th>4</th>\n",
       "      <td>22</td>\n",
       "      <td>62855</td>\n",
       "      <td>1</td>\n",
       "      <td>2</td>\n",
       "      <td>1</td>\n",
       "      <td>1</td>\n",
       "      <td>3</td>\n",
       "      <td>3</td>\n",
       "      <td>1</td>\n",
       "    </tr>\n",
       "  </tbody>\n",
       "</table>\n",
       "</div>"
      ],
      "text/plain": [
       "   index     id Обобщение Отношение Агрессия Солидар. Низ/выс Жертва? Опасный?\n",
       "0      0   2942         3         2        1        1       3       3        1\n",
       "1     12  55368         2         2        1        1       3       3        1\n",
       "2     16  58073         2         2        1        1       3       3        1\n",
       "3     21  62855         1         2        1        2       3       3        1\n",
       "4     22  62855         1         2        1        1       3       3        1"
      ]
     },
     "execution_count": 130,
     "metadata": {},
     "output_type": "execute_result"
    }
   ],
   "source": [
    "unused_what.reset_index(inplace = True)\n",
    "unused_what.head()"
   ]
  },
  {
   "cell_type": "code",
   "execution_count": 131,
   "metadata": {
    "collapsed": false,
    "scrolled": false
   },
   "outputs": [
    {
     "data": {
      "text/html": [
       "<div>\n",
       "<table border=\"1\" class=\"dataframe\">\n",
       "  <thead>\n",
       "    <tr style=\"text-align: right;\">\n",
       "      <th></th>\n",
       "      <th>id</th>\n",
       "      <th>Время</th>\n",
       "      <th>Этноним</th>\n",
       "      <th>Логин</th>\n",
       "      <th>Понятно?</th>\n",
       "      <th>Этноним.1</th>\n",
       "      <th>Негатив</th>\n",
       "      <th>Позитив</th>\n",
       "      <th>Конфликт</th>\n",
       "      <th>Поз.взаим.</th>\n",
       "      <th>...</th>\n",
       "      <th>Unnamed: 74</th>\n",
       "      <th>Unnamed: 75</th>\n",
       "      <th>Unnamed: 76</th>\n",
       "      <th>Unnamed: 77</th>\n",
       "      <th>Unnamed: 78</th>\n",
       "      <th>Unnamed: 79</th>\n",
       "      <th>Unnamed: 80</th>\n",
       "      <th>Unnamed: 81</th>\n",
       "      <th>Unnamed: 82</th>\n",
       "      <th>Unnamed: 83</th>\n",
       "    </tr>\n",
       "  </thead>\n",
       "  <tbody>\n",
       "  </tbody>\n",
       "</table>\n",
       "<p>0 rows × 84 columns</p>\n",
       "</div>"
      ],
      "text/plain": [
       "Empty DataFrame\n",
       "Columns: [id, Время, Этноним, Логин, Понятно?, Этноним.1, Негатив, Позитив, Конфликт, Поз.взаим., Этн., Мигр., Религ., Соц., Полит., Экон., Культ., Быт, Юмор, Ист., Др., Непон., Этноним 1, Обобщение, Отношение, Агрессия, Солидар., Низ/выс, Жертва?, Опасный?, Этноним 2, Обобщение.1, Отношение.1, Агрессия.1, Солидар..1, Низ/выс.1, Жертва?.1, Опасный?.1, Этноним 3, Обобщение.2, Отношение.2, Агрессия.2, Солидар..2, Низ/выс.2, Жертва?.2, Опасный?.2, Этноним 4, Обобщение.3, Отношение.3, Агрессия.3, Солидар..3, Низ/выс.3, Жертва?.3, Опасный?.3, Unnamed: 54, Unnamed: 55, Unnamed: 56, Unnamed: 57, Unnamed: 58, Unnamed: 59, Unnamed: 60, Unnamed: 61, Unnamed: 62, Unnamed: 63, Unnamed: 64, Unnamed: 65, Unnamed: 66, Unnamed: 67, Unnamed: 68, Unnamed: 69, Unnamed: 70, Unnamed: 71, Unnamed: 72, Unnamed: 73, Unnamed: 74, Unnamed: 75, Unnamed: 76, Unnamed: 77, Unnamed: 78, Unnamed: 79, Unnamed: 80, Unnamed: 81, Unnamed: 82, Unnamed: 83]\n",
       "Index: []\n",
       "\n",
       "[0 rows x 84 columns]"
      ]
     },
     "execution_count": 131,
     "metadata": {},
     "output_type": "execute_result"
    }
   ],
   "source": [
    "unreplaced_where"
   ]
  },
  {
   "cell_type": "code",
   "execution_count": 158,
   "metadata": {
    "collapsed": true
   },
   "outputs": [],
   "source": [
    "what.to_csv('what.csv')\n",
    "where.to_csv('where.csv', float_format='%.0f')\n",
    "unused_what.to_csv('unused_what.csv')"
   ]
  },
  {
   "cell_type": "code",
   "execution_count": 172,
   "metadata": {
    "collapsed": false
   },
   "outputs": [],
   "source": [
    "nn_mask = np.logical_not(where_all.iloc[where_all.id.isnull().values].isnull()).values"
   ]
  },
  {
   "cell_type": "code",
   "execution_count": 175,
   "metadata": {
    "collapsed": false
   },
   "outputs": [],
   "source": [
    "pd.DataFrame(where_all.iloc[where_all.id.isnull().values].values[nn_mask]).to_csv('rubish.csv')"
   ]
  },
  {
   "cell_type": "markdown",
   "metadata": {
    "collapsed": true
   },
   "source": [
    "# 2\n",
    "найти все тексты, имеющие три и более оценки по полю \"отношение\"; вывести их количество\n",
    "\n",
    "перекодировать значения поля \"отношение\":  pos=1, neutral=2, neg=3\n",
    "\n",
    "посчитать среднее и округлить до ближайшего целого\n",
    "\n",
    "посчитать распределения неокругленных и округленных значений\n",
    "\n",
    "результат представить в виде трех таблиц xls или csv, разделители дробной части - запятые):\n",
    "а. столбцы: Id, оригинальный текст, оценка 1, оценка 2, оценка 3, среднее, округленное среднее\n",
    "б.  Таблица частот неокругленных средних\n",
    "в. Таблица частот округленных средних\n",
    "приложить код\n"
   ]
  },
  {
   "cell_type": "code",
   "execution_count": 97,
   "metadata": {
    "collapsed": true
   },
   "outputs": [],
   "source": [
    "where = pd.read_csv('where.csv')"
   ]
  },
  {
   "cell_type": "markdown",
   "metadata": {},
   "source": [
    "#### Создаем маску тех id которые встречаются три или более раз, и выделяем их в отдельный список. \n",
    "Отношение у всех заполнено, так как мы заполняя таблицу в задании 1 не столкнулись ни с одной строкой которая была бы в where но не была бы в what"
   ]
  },
  {
   "cell_type": "code",
   "execution_count": 98,
   "metadata": {
    "collapsed": false
   },
   "outputs": [],
   "source": [
    "ids_mask = (where.id.value_counts() >= 3).values\n",
    "target_ids = where.id.value_counts().index[ids_mask]"
   ]
  },
  {
   "cell_type": "code",
   "execution_count": 99,
   "metadata": {
    "collapsed": false,
    "scrolled": true
   },
   "outputs": [
    {
     "name": "stdout",
     "output_type": "stream",
     "text": [
      "Кол-во id к которым относится три или более записей: 122\n"
     ]
    }
   ],
   "source": [
    "print 'Кол-во id к которым относится три или более записей:', len(target_ids)"
   ]
  },
  {
   "cell_type": "markdown",
   "metadata": {},
   "source": [
    "#### Кол-во id к которым относится три или более записей: 122\n",
    "\n",
    "Теперь сначала выделим интересные id в отдельную таблицу, у таблицы будет пять колонок, потому что это максимальное кол-во \"Отношений\" для одного id, id будут индексами таблицы. Затем найдем среднее значение \"Отношениее\" для каждого id, потом округлим и потом уже переименуем окончательные цифры в pos\\neutral\\neg "
   ]
  },
  {
   "cell_type": "code",
   "execution_count": 100,
   "metadata": {
    "collapsed": false
   },
   "outputs": [],
   "source": [
    "target_data = pd.DataFrame(columns=['Отношение_0','Отношение_1','Отношение_2','Отношение_3','Отношение_4'])\n",
    "\n",
    "column_id = 0\n",
    "for i, row in where.iterrows():\n",
    "    if row.id in target_ids:\n",
    "        if row.id in target_data.index:\n",
    "            column_id += 1\n",
    "        else:\n",
    "            column_id = 0\n",
    "        \n",
    "        column_name = 'Отношение_' + str(column_id)\n",
    "        target_data.loc[row.id, column_name] = row['Отношение']"
   ]
  },
  {
   "cell_type": "code",
   "execution_count": 101,
   "metadata": {
    "collapsed": false
   },
   "outputs": [
    {
     "data": {
      "text/html": [
       "<div>\n",
       "<table border=\"1\" class=\"dataframe\">\n",
       "  <thead>\n",
       "    <tr style=\"text-align: right;\">\n",
       "      <th></th>\n",
       "      <th>Отношение_0</th>\n",
       "      <th>Отношение_1</th>\n",
       "      <th>Отношение_2</th>\n",
       "      <th>Отношение_3</th>\n",
       "      <th>Отношение_4</th>\n",
       "    </tr>\n",
       "  </thead>\n",
       "  <tbody>\n",
       "    <tr>\n",
       "      <th>93672</th>\n",
       "      <td>3</td>\n",
       "      <td>3</td>\n",
       "      <td>3</td>\n",
       "      <td>NaN</td>\n",
       "      <td>NaN</td>\n",
       "    </tr>\n",
       "    <tr>\n",
       "      <th>101899</th>\n",
       "      <td>2</td>\n",
       "      <td>3</td>\n",
       "      <td>1</td>\n",
       "      <td>NaN</td>\n",
       "      <td>NaN</td>\n",
       "    </tr>\n",
       "    <tr>\n",
       "      <th>115795</th>\n",
       "      <td>1</td>\n",
       "      <td>1</td>\n",
       "      <td>1</td>\n",
       "      <td>NaN</td>\n",
       "      <td>NaN</td>\n",
       "    </tr>\n",
       "    <tr>\n",
       "      <th>170997</th>\n",
       "      <td>3</td>\n",
       "      <td>3</td>\n",
       "      <td>3</td>\n",
       "      <td>NaN</td>\n",
       "      <td>NaN</td>\n",
       "    </tr>\n",
       "    <tr>\n",
       "      <th>235462</th>\n",
       "      <td>2</td>\n",
       "      <td>1</td>\n",
       "      <td>1</td>\n",
       "      <td>1</td>\n",
       "      <td>NaN</td>\n",
       "    </tr>\n",
       "  </tbody>\n",
       "</table>\n",
       "</div>"
      ],
      "text/plain": [
       "       Отношение_0 Отношение_1 Отношение_2 Отношение_3 Отношение_4\n",
       "93672            3           3           3         NaN         NaN\n",
       "101899           2           3           1         NaN         NaN\n",
       "115795           1           1           1         NaN         NaN\n",
       "170997           3           3           3         NaN         NaN\n",
       "235462           2           1           1           1         NaN"
      ]
     },
     "execution_count": 101,
     "metadata": {},
     "output_type": "execute_result"
    }
   ],
   "source": [
    "target_data.head()"
   ]
  },
  {
   "cell_type": "markdown",
   "metadata": {},
   "source": [
    "Так выглядит таблица, теперь посчитаем среднее. "
   ]
  },
  {
   "cell_type": "code",
   "execution_count": 102,
   "metadata": {
    "collapsed": false
   },
   "outputs": [],
   "source": [
    "target_avrg = pd.DataFrame(target_data.sum(1).astype(float) / np.logical_not(target_data.isnull().values).sum(1), columns = ['Среднее'])"
   ]
  },
  {
   "cell_type": "code",
   "execution_count": 103,
   "metadata": {
    "collapsed": false,
    "scrolled": true
   },
   "outputs": [
    {
     "data": {
      "text/html": [
       "<div>\n",
       "<table border=\"1\" class=\"dataframe\">\n",
       "  <thead>\n",
       "    <tr style=\"text-align: right;\">\n",
       "      <th></th>\n",
       "      <th>Среднее</th>\n",
       "    </tr>\n",
       "  </thead>\n",
       "  <tbody>\n",
       "    <tr>\n",
       "      <th>93672</th>\n",
       "      <td>3.00</td>\n",
       "    </tr>\n",
       "    <tr>\n",
       "      <th>101899</th>\n",
       "      <td>2.00</td>\n",
       "    </tr>\n",
       "    <tr>\n",
       "      <th>115795</th>\n",
       "      <td>1.00</td>\n",
       "    </tr>\n",
       "    <tr>\n",
       "      <th>170997</th>\n",
       "      <td>3.00</td>\n",
       "    </tr>\n",
       "    <tr>\n",
       "      <th>235462</th>\n",
       "      <td>1.25</td>\n",
       "    </tr>\n",
       "  </tbody>\n",
       "</table>\n",
       "</div>"
      ],
      "text/plain": [
       "        Среднее\n",
       "93672      3.00\n",
       "101899     2.00\n",
       "115795     1.00\n",
       "170997     3.00\n",
       "235462     1.25"
      ]
     },
     "execution_count": 103,
     "metadata": {},
     "output_type": "execute_result"
    }
   ],
   "source": [
    "target_avrg.head()"
   ]
  },
  {
   "cell_type": "markdown",
   "metadata": {},
   "source": [
    "Округлим"
   ]
  },
  {
   "cell_type": "code",
   "execution_count": 104,
   "metadata": {
    "collapsed": false,
    "scrolled": true
   },
   "outputs": [
    {
     "data": {
      "text/html": [
       "<div>\n",
       "<table border=\"1\" class=\"dataframe\">\n",
       "  <thead>\n",
       "    <tr style=\"text-align: right;\">\n",
       "      <th></th>\n",
       "      <th>Округленное Среднее</th>\n",
       "    </tr>\n",
       "  </thead>\n",
       "  <tbody>\n",
       "    <tr>\n",
       "      <th>93672</th>\n",
       "      <td>3</td>\n",
       "    </tr>\n",
       "    <tr>\n",
       "      <th>101899</th>\n",
       "      <td>2</td>\n",
       "    </tr>\n",
       "    <tr>\n",
       "      <th>115795</th>\n",
       "      <td>1</td>\n",
       "    </tr>\n",
       "    <tr>\n",
       "      <th>170997</th>\n",
       "      <td>3</td>\n",
       "    </tr>\n",
       "    <tr>\n",
       "      <th>235462</th>\n",
       "      <td>1</td>\n",
       "    </tr>\n",
       "  </tbody>\n",
       "</table>\n",
       "</div>"
      ],
      "text/plain": [
       "        Округленное Среднее\n",
       "93672                     3\n",
       "101899                    2\n",
       "115795                    1\n",
       "170997                    3\n",
       "235462                    1"
      ]
     },
     "execution_count": 104,
     "metadata": {},
     "output_type": "execute_result"
    }
   ],
   "source": [
    "target_avrg_int = pd.DataFrame(np.around(target_avrg))\n",
    "target_avrg_int.columns = ['Округленное Среднее']\n",
    "target_avrg_int.head()"
   ]
  },
  {
   "cell_type": "markdown",
   "metadata": {},
   "source": [
    "Переименуем"
   ]
  },
  {
   "cell_type": "code",
   "execution_count": 105,
   "metadata": {
    "collapsed": true
   },
   "outputs": [],
   "source": [
    "renamer_dict = {1 : 'pos',\n",
    "                2 : 'neutral',\n",
    "                3 : 'neg'}"
   ]
  },
  {
   "cell_type": "code",
   "execution_count": 106,
   "metadata": {
    "collapsed": true
   },
   "outputs": [],
   "source": [
    "target_avrg_renamed = target_avrg_int.replace(renamer_dict)\n",
    "target_avrg_renamed.columns = ['Среднее Назв']"
   ]
  },
  {
   "cell_type": "code",
   "execution_count": 107,
   "metadata": {
    "collapsed": false
   },
   "outputs": [
    {
     "data": {
      "text/html": [
       "<div>\n",
       "<table border=\"1\" class=\"dataframe\">\n",
       "  <thead>\n",
       "    <tr style=\"text-align: right;\">\n",
       "      <th></th>\n",
       "      <th>Среднее Назв</th>\n",
       "    </tr>\n",
       "  </thead>\n",
       "  <tbody>\n",
       "    <tr>\n",
       "      <th>93672</th>\n",
       "      <td>neg</td>\n",
       "    </tr>\n",
       "    <tr>\n",
       "      <th>101899</th>\n",
       "      <td>neutral</td>\n",
       "    </tr>\n",
       "    <tr>\n",
       "      <th>115795</th>\n",
       "      <td>pos</td>\n",
       "    </tr>\n",
       "    <tr>\n",
       "      <th>170997</th>\n",
       "      <td>neg</td>\n",
       "    </tr>\n",
       "    <tr>\n",
       "      <th>235462</th>\n",
       "      <td>pos</td>\n",
       "    </tr>\n",
       "  </tbody>\n",
       "</table>\n",
       "</div>"
      ],
      "text/plain": [
       "       Среднее Назв\n",
       "93672           neg\n",
       "101899      neutral\n",
       "115795          pos\n",
       "170997          neg\n",
       "235462          pos"
      ]
     },
     "execution_count": 107,
     "metadata": {},
     "output_type": "execute_result"
    }
   ],
   "source": [
    "target_avrg_renamed.head()"
   ]
  },
  {
   "cell_type": "code",
   "execution_count": 108,
   "metadata": {
    "collapsed": true
   },
   "outputs": [],
   "source": [
    "target_final = pd.concat((target_data,target_avrg,target_avrg_int,target_avrg_renamed), axis = 1)"
   ]
  },
  {
   "cell_type": "code",
   "execution_count": 139,
   "metadata": {
    "collapsed": false
   },
   "outputs": [
    {
     "data": {
      "text/html": [
       "<div>\n",
       "<table border=\"1\" class=\"dataframe\">\n",
       "  <thead>\n",
       "    <tr style=\"text-align: right;\">\n",
       "      <th></th>\n",
       "      <th>Отношение_0</th>\n",
       "      <th>Отношение_1</th>\n",
       "      <th>Отношение_2</th>\n",
       "      <th>Отношение_3</th>\n",
       "      <th>Отношение_4</th>\n",
       "      <th>Среднее</th>\n",
       "      <th>Округленное Среднее</th>\n",
       "      <th>Среднее Назв</th>\n",
       "    </tr>\n",
       "  </thead>\n",
       "  <tbody>\n",
       "    <tr>\n",
       "      <th>93672</th>\n",
       "      <td>3</td>\n",
       "      <td>3</td>\n",
       "      <td>3</td>\n",
       "      <td>NaN</td>\n",
       "      <td>NaN</td>\n",
       "      <td>3.00</td>\n",
       "      <td>3</td>\n",
       "      <td>neg</td>\n",
       "    </tr>\n",
       "    <tr>\n",
       "      <th>101899</th>\n",
       "      <td>2</td>\n",
       "      <td>3</td>\n",
       "      <td>1</td>\n",
       "      <td>NaN</td>\n",
       "      <td>NaN</td>\n",
       "      <td>2.00</td>\n",
       "      <td>2</td>\n",
       "      <td>neutral</td>\n",
       "    </tr>\n",
       "    <tr>\n",
       "      <th>115795</th>\n",
       "      <td>1</td>\n",
       "      <td>1</td>\n",
       "      <td>1</td>\n",
       "      <td>NaN</td>\n",
       "      <td>NaN</td>\n",
       "      <td>1.00</td>\n",
       "      <td>1</td>\n",
       "      <td>pos</td>\n",
       "    </tr>\n",
       "    <tr>\n",
       "      <th>170997</th>\n",
       "      <td>3</td>\n",
       "      <td>3</td>\n",
       "      <td>3</td>\n",
       "      <td>NaN</td>\n",
       "      <td>NaN</td>\n",
       "      <td>3.00</td>\n",
       "      <td>3</td>\n",
       "      <td>neg</td>\n",
       "    </tr>\n",
       "    <tr>\n",
       "      <th>235462</th>\n",
       "      <td>2</td>\n",
       "      <td>1</td>\n",
       "      <td>1</td>\n",
       "      <td>1</td>\n",
       "      <td>NaN</td>\n",
       "      <td>1.25</td>\n",
       "      <td>1</td>\n",
       "      <td>pos</td>\n",
       "    </tr>\n",
       "  </tbody>\n",
       "</table>\n",
       "</div>"
      ],
      "text/plain": [
       "       Отношение_0 Отношение_1 Отношение_2 Отношение_3 Отношение_4  Среднее  \\\n",
       "93672            3           3           3         NaN         NaN     3.00   \n",
       "101899           2           3           1         NaN         NaN     2.00   \n",
       "115795           1           1           1         NaN         NaN     1.00   \n",
       "170997           3           3           3         NaN         NaN     3.00   \n",
       "235462           2           1           1           1         NaN     1.25   \n",
       "\n",
       "        Округленное Среднее Среднее Назв  \n",
       "93672                     3          neg  \n",
       "101899                    2      neutral  \n",
       "115795                    1          pos  \n",
       "170997                    3          neg  \n",
       "235462                    1          pos  "
      ]
     },
     "execution_count": 139,
     "metadata": {},
     "output_type": "execute_result"
    }
   ],
   "source": [
    "target_final.head()"
   ]
  },
  {
   "cell_type": "code",
   "execution_count": 111,
   "metadata": {
    "collapsed": true
   },
   "outputs": [],
   "source": [
    "target_final.to_csv('Отношение_main.csv', decimal=',')"
   ]
  },
  {
   "cell_type": "markdown",
   "metadata": {},
   "source": [
    "#### Посчитаем статистики"
   ]
  },
  {
   "cell_type": "code",
   "execution_count": 120,
   "metadata": {
    "collapsed": false
   },
   "outputs": [],
   "source": [
    "stats_avr = pd.DataFrame(target_final['Среднее'].value_counts())\n",
    "stats_avr.columns = ['Кол-во']"
   ]
  },
  {
   "cell_type": "code",
   "execution_count": 134,
   "metadata": {
    "collapsed": false
   },
   "outputs": [
    {
     "data": {
      "text/html": [
       "<div>\n",
       "<table border=\"1\" class=\"dataframe\">\n",
       "  <thead>\n",
       "    <tr style=\"text-align: right;\">\n",
       "      <th></th>\n",
       "      <th>Кол-во</th>\n",
       "    </tr>\n",
       "  </thead>\n",
       "  <tbody>\n",
       "    <tr>\n",
       "      <th>1.000000</th>\n",
       "      <td>24</td>\n",
       "    </tr>\n",
       "    <tr>\n",
       "      <th>1.250000</th>\n",
       "      <td>1</td>\n",
       "    </tr>\n",
       "    <tr>\n",
       "      <th>1.333333</th>\n",
       "      <td>16</td>\n",
       "    </tr>\n",
       "    <tr>\n",
       "      <th>1.500000</th>\n",
       "      <td>1</td>\n",
       "    </tr>\n",
       "    <tr>\n",
       "      <th>1.666667</th>\n",
       "      <td>13</td>\n",
       "    </tr>\n",
       "    <tr>\n",
       "      <th>2.000000</th>\n",
       "      <td>24</td>\n",
       "    </tr>\n",
       "    <tr>\n",
       "      <th>2.250000</th>\n",
       "      <td>1</td>\n",
       "    </tr>\n",
       "    <tr>\n",
       "      <th>2.333333</th>\n",
       "      <td>17</td>\n",
       "    </tr>\n",
       "    <tr>\n",
       "      <th>2.500000</th>\n",
       "      <td>2</td>\n",
       "    </tr>\n",
       "    <tr>\n",
       "      <th>2.666667</th>\n",
       "      <td>8</td>\n",
       "    </tr>\n",
       "    <tr>\n",
       "      <th>2.800000</th>\n",
       "      <td>1</td>\n",
       "    </tr>\n",
       "    <tr>\n",
       "      <th>3.000000</th>\n",
       "      <td>14</td>\n",
       "    </tr>\n",
       "  </tbody>\n",
       "</table>\n",
       "</div>"
      ],
      "text/plain": [
       "          Кол-во\n",
       "1.000000      24\n",
       "1.250000       1\n",
       "1.333333      16\n",
       "1.500000       1\n",
       "1.666667      13\n",
       "2.000000      24\n",
       "2.250000       1\n",
       "2.333333      17\n",
       "2.500000       2\n",
       "2.666667       8\n",
       "2.800000       1\n",
       "3.000000      14"
      ]
     },
     "execution_count": 134,
     "metadata": {},
     "output_type": "execute_result"
    }
   ],
   "source": [
    "stats_avr.sort_index()"
   ]
  },
  {
   "cell_type": "code",
   "execution_count": 135,
   "metadata": {
    "collapsed": false
   },
   "outputs": [
    {
     "data": {
      "text/html": [
       "<div>\n",
       "<table border=\"1\" class=\"dataframe\">\n",
       "  <thead>\n",
       "    <tr style=\"text-align: right;\">\n",
       "      <th></th>\n",
       "      <th>Кол-во</th>\n",
       "    </tr>\n",
       "  </thead>\n",
       "  <tbody>\n",
       "    <tr>\n",
       "      <th>1</th>\n",
       "      <td>41</td>\n",
       "    </tr>\n",
       "    <tr>\n",
       "      <th>2</th>\n",
       "      <td>58</td>\n",
       "    </tr>\n",
       "    <tr>\n",
       "      <th>3</th>\n",
       "      <td>23</td>\n",
       "    </tr>\n",
       "  </tbody>\n",
       "</table>\n",
       "</div>"
      ],
      "text/plain": [
       "   Кол-во\n",
       "1      41\n",
       "2      58\n",
       "3      23"
      ]
     },
     "execution_count": 135,
     "metadata": {},
     "output_type": "execute_result"
    }
   ],
   "source": [
    "stats_avr_round = pd.DataFrame(target_final['Округленное Среднее'].value_counts())\n",
    "stats_avr_round.columns = ['Кол-во']\n",
    "stats_avr_round.sort_index()"
   ]
  },
  {
   "cell_type": "code",
   "execution_count": 137,
   "metadata": {
    "collapsed": true
   },
   "outputs": [],
   "source": [
    "stats_avr.sort_index().to_csv('stats_avrg.csv', decimal = ',')\n",
    "stats_avr_round.sort_index().to_csv('stats_avrg_round.csv')"
   ]
  },
  {
   "cell_type": "code",
   "execution_count": null,
   "metadata": {
    "collapsed": true
   },
   "outputs": [],
   "source": []
  }
 ],
 "metadata": {
  "kernelspec": {
   "display_name": "Python 2",
   "language": "python",
   "name": "python2"
  },
  "language_info": {
   "codemirror_mode": {
    "name": "ipython",
    "version": 2
   },
   "file_extension": ".py",
   "mimetype": "text/x-python",
   "name": "python",
   "nbconvert_exporter": "python",
   "pygments_lexer": "ipython2",
   "version": "2.7.12"
  }
 },
 "nbformat": 4,
 "nbformat_minor": 0
}
